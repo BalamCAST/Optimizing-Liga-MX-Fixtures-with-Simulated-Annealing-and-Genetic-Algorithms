{
  "nbformat": 4,
  "nbformat_minor": 0,
  "metadata": {
    "colab": {
      "provenance": [],
      "authorship_tag": "ABX9TyPD36sRu9lATYKaOuHYS3zj",
      "include_colab_link": true
    },
    "kernelspec": {
      "name": "python3",
      "display_name": "Python 3"
    },
    "language_info": {
      "name": "python"
    }
  },
  "cells": [
    {
      "cell_type": "markdown",
      "metadata": {
        "id": "view-in-github",
        "colab_type": "text"
      },
      "source": [
        "<a href=\"https://colab.research.google.com/github/BalamCAST/Optimizing-Liga-MX-Fixtures-with-Simulated-Annealing-and-Genetic-Algorithms/blob/main/LigaMX_Fixtures.ipynb\" target=\"_parent\"><img src=\"https://colab.research.google.com/assets/colab-badge.svg\" alt=\"Open In Colab\"/></a>"
      ]
    },
    {
      "cell_type": "markdown",
      "source": [
        "# Optimización de la Calendarización de la Liga MX con Algoritmos Genéticos y Recocido Simulado.\n",
        "\n",
        "##### Diego Aranda Castañeda\n",
        "##### Centro en Investigación en Ciencias\n",
        "##### Instituto en Investigación en Ciencias Básicas y Aplicadas\n",
        "##### Universidad Autónoma del Estado de Morelos\n",
        "##### Lic. en Inteligencia Artificial\n",
        "##### Búsqueda de Soluciones e Inferencia Bayesiana\n",
        "##### 03 de abril de 2025"
      ],
      "metadata": {
        "id": "WcTWSlj3PNmO"
      }
    },
    {
      "cell_type": "markdown",
      "source": [
        "## Introducción: La Liga MX y el Desafío del Calendario.\n",
        "\n",
        "La **Liga MX** es la máxima categoría del fútbol profesional en México, compuesta por 18 equipos que disputan dos torneos cortos al año (Apertura y Clausura). Cada torneo consta de 17 jornadas, donde los equipos se enfrentan en formato de *round-robin* (todos contra todos una vez). La complejidad de organizar el calendario radica en:\n",
        "1. **Rivalidades históricas**: Partidos como el Clásico (América vs Chivas), o derbis regionales (como el Tigres vs Monterrey) atraen a millones de espectadores y requieren horarios estelares.\n",
        "2. **Preferencias de horario**: Cada equipo tiene un día y hora preferidos para jugar como local (por ejemplo, el América juega mayormente los sábados a las 21:00 horas).\n",
        "3. **Equilibrio competitivo**: Evitar secuencias de partidos como local/visitante consecutivos para ningún equipo.\n",
        "\n",
        "Este código busca automatizar la generación de un calendario óptimo para uno de los dos torneos, el cuál se espera que cumpla con estos criterios, utilizando técnicas de optimización combinatoria como **recocido simulado** para distribuir los partidos y **algoritmos genéticos** para asignar horarios. El objetivo es equilibrar intereses deportivos, comerciales y logisticos, garantizando un torneo atractivo para aficionados y patrocinadores."
      ],
      "metadata": {
        "id": "V_0nHaLXQVLo"
      }
    },
    {
      "cell_type": "markdown",
      "source": [
        "## 1. Configuraciones Básicas\n",
        "### Variables Principales\n",
        "\n",
        "\n",
        "*   NUM_EQUIPOS: Número total de equipos.\n",
        "*   NUM_JORNADAS: Número de jornadas en el torneo.\n",
        "*   EARLY_CUTOFF: Jornadas consideradas \"tempranas\" para la optimización\n",
        "*   DIAS_HORARIOS: Horarios disponibles por día (Viernes, Sábado, Domingo).\n",
        "*   equipos: Diccionario con información de equipos (identificador numérico, nombre, estadio, capacidad, valor)\n",
        "*   rivalidades: Pares de equipos con niveles de rivalidad (0-100).\n",
        "*   HORARIO_LOCAL_EQUIPO: Horario preferido de localía para cada equipo.\n",
        "\n",
        "\n",
        "\n"
      ],
      "metadata": {
        "id": "OFloX831T7FJ"
      }
    },
    {
      "cell_type": "code",
      "execution_count": null,
      "metadata": {
        "id": "9aBSVrbiO2lI"
      },
      "outputs": [],
      "source": [
        "import random\n",
        "import math\n",
        "import datetime\n",
        "from collections import defaultdict\n",
        "import copy\n",
        "import time\n",
        "from matplotlib import pyplot as plt\n",
        "import os\n",
        "\n",
        "NUM_EQUIPOS = 18\n",
        "NUM_JORNADAS = 17\n",
        "EARLY_CUTOFF = 10\n",
        "\n",
        "DIAS_HORARIOS = {\n",
        "    'Viernes': ['19:00', '21:00'],\n",
        "    'Sábado': ['17:00', '19:00', '21:00'],\n",
        "    'Domingo': ['12:00', '17:00', '19:00', '21:00'],\n",
        "}\n",
        "DIAS_ORDEN = [\"Viernes\", \"Sábado\", \"Domingo\"]\n",
        "\n",
        "sorted_slots = []\n",
        "for dia in DIAS_ORDEN:\n",
        "    for hora in sorted(DIAS_HORARIOS[dia]):\n",
        "        sorted_slots.append((dia, hora))\n",
        "\n",
        "equipos = {\n",
        "    1: (\"América\", \"Ciudad de los Deportes\", 30247, 87150000),\n",
        "    2: (\"Atlas\", \"Jalisco\", 55020, 28950000),\n",
        "    3: (\"Atlético de San Luis\", \"Alfonso Lastras Ramírez\", 28429, 42100000),\n",
        "    4: (\"Cruz Azul\", \"Olímpico Universitario (CU)\", 58445, 91550000),\n",
        "    5: (\"FC Juárez\", \"Olímpico Benito Juárez\", 19703, 34350000),\n",
        "    6: (\"Guadalajara\", \"AKRON\", 46232, 67200000),\n",
        "    7: (\"León\", \"Nou Camp\", 31297, 35250000),\n",
        "    8: (\"Mazatlán FC\", \"El Encanto\", 20195, 33000000),\n",
        "    9: (\"Monterrey\", \"BBVA\", 53529, 79000000),\n",
        "    10: (\"Necaxa\", \"Victoria\", 23851, 43900000),\n",
        "    11: (\"Pachuca\", \"Hidalgo\", 25922, 47850000),\n",
        "    12: (\"Puebla\", \"Cuauhtémoc\", 47704, 24900000),\n",
        "    13: (\"Pumas\", \"Olímpico Universitario (CU)\", 58445, 45950000),\n",
        "    14: (\"Querétaro\", \"La Corregidora\", 34107, 20650000),\n",
        "    15: (\"Santos Laguna\", \"TSM Corona\", 29101, 34400000),\n",
        "    16: (\"Tigres\", \"Universitario\", 41886, 67400000),\n",
        "    17: (\"Tijuana\", \"Caliente\", 29533, 34150000),\n",
        "    18: (\"Toluca\", \"Nemesio Diez\", 27273, 71950000)\n",
        "}\n",
        "\n",
        "rivalidades = {\n",
        "    (\"América\", \"Guadalajara\"): 100,\n",
        "    (\"Tigres\", \"Monterrey\"): 80,\n",
        "    (\"América\", \"Pumas\"): 80,\n",
        "    (\"Guadalajara\", \"Atlas\"): 80,\n",
        "    (\"América\", \"Cruz Azul\"): 80,\n",
        "    (\"Pumas\", \"Cruz Azul\"): 80,\n",
        "    (\"América\", \"Tigres\"): 50,\n",
        "    (\"Guadalajara\", \"Pumas\"): 50,\n",
        "    (\"Guadalajara\", \"Cruz Azul\"): 50,\n",
        "    (\"Atlético de San Luis\", \"Querétaro\"): 50,\n",
        "    (\"Querétaro\", \"Atlas\"): 50,\n",
        "    (\"León\", \"Querétaro\"): 50,\n",
        "    (\"Toluca\", \"Santos Laguna\"): 50,\n",
        "    (\"Atlético de San Luis\", \"Necaxa\"): 50\n",
        "}\n",
        "\n",
        "HORARIO_LOCAL_EQUIPO = {\n",
        "    \"América\": (\"Sábado\", \"21:00\"),\n",
        "    \"Atlas\": (\"Viernes\", \"21:00\"),\n",
        "    \"Atlético de San Luis\": (\"Sábado\", \"17:00\"),\n",
        "    \"Cruz Azul\": (\"Sábado\", \"21:00\"),\n",
        "    \"FC Juárez\": (\"Viernes\", \"21:00\"),\n",
        "    \"Guadalajara\": (\"Sábado\", \"19:00\"),\n",
        "    \"León\": (\"Domingo\", \"19:00\"),\n",
        "    \"Mazatlán FC\": (\"Viernes\", \"19:00\"),\n",
        "    \"Monterrey\": (\"Sábado\", \"19:00\"),\n",
        "    \"Necaxa\": (\"Viernes\", \"19:00\"),\n",
        "    \"Pachuca\": (\"Domingo\", \"21:00\"),\n",
        "    \"Puebla\": (\"Viernes\", \"19:00\"),\n",
        "    \"Pumas\": (\"Domingo\", \"12:00\"),\n",
        "    \"Querétaro\": (\"Viernes\", \"17:00\"),\n",
        "    \"Santos Laguna\": (\"Domingo\", \"19:00\"),\n",
        "    \"Tigres\": (\"Sábado\", \"19:00\"),\n",
        "    \"Tijuana\": (\"Sábado\", \"19:00\"),\n",
        "    \"Toluca\": (\"Domingo\", \"12:00\")\n",
        "}"
      ]
    },
    {
      "cell_type": "markdown",
      "source": [
        "## 2. Funciones Auxiliares\n",
        "1. obtener_rivalidad(equipo1, equipo2)\n",
        "  *   **Proposito:** Obtener el nivel de rivalidad entre dos equipos.\n",
        "  *   **Retorna:** Valor numérico (20 si no hay rivalidad definida).\n",
        "2. es_rivalidad_fuerte(equipo1, equipo2)\n",
        "  *   **Propósito:** Determinar si la rivalidad es alta (=>80)\n",
        "  *   **Retorna:** True/False\n",
        "\n",
        "\n"
      ],
      "metadata": {
        "id": "4do2mbhKWORN"
      }
    },
    {
      "cell_type": "code",
      "source": [
        "def obtener_rivalidad(equipo1, equipo2):\n",
        "    return rivalidades.get((equipo1, equipo2), rivalidades.get((equipo2, equipo1), 20))\n",
        "\n",
        "def es_rivalidad_fuerte(equipo1, equipo2):\n",
        "    return obtener_rivalidad(equipo1, equipo2) >= 80"
      ],
      "metadata": {
        "id": "LtCph_PLQTeH"
      },
      "execution_count": null,
      "outputs": []
    },
    {
      "cell_type": "markdown",
      "source": [
        "## 3. Generación del Calendario (Round-Robin)\n",
        "1. generar_calendario_round_robin()\n",
        "  *   **Propósito**: Genera un calendario inicial usando el método _round-robin_.\n",
        "  *   **Funcionamiento:**\n",
        "    1.   Mezcla los IDs de los equipos\n",
        "    2.   Crea jornadas alternando localías para asegurar equilibrio.\n",
        "  *   Retorna: Lista de jornadas con partidos (local, visitante, horario).\n",
        "2. enfrentamientos_son_unicos(schedule)\n",
        "  *   **Propósito:** Verifica que no haya enfrentamientos repetidos en el calendario.\n",
        "  *  **Retorna:** True si todos los enfrentamientos son únicos. False en caso contrario.\n",
        "\n",
        "\n",
        "\n",
        "\n",
        "\n"
      ],
      "metadata": {
        "id": "V6tMGAaCXqP1"
      }
    },
    {
      "cell_type": "code",
      "source": [
        "def generar_calendario_round_robin():\n",
        "    equipos_ids = list(equipos.keys())\n",
        "    random.shuffle(equipos_ids)  # Mezclar equipos antes de generar el calendario\n",
        "    n = len(equipos_ids)\n",
        "    calendario = []\n",
        "    for ronda in range(n - 1):\n",
        "        partidos = []\n",
        "        for i in range(n // 2):\n",
        "            if i == 0:\n",
        "                eq1 = equipos_ids[0]\n",
        "                eq2 = equipos_ids[-1]\n",
        "            else:\n",
        "                eq1 = equipos_ids[i]\n",
        "                eq2 = equipos_ids[-i - 1]\n",
        "            if ronda % 2 == 0:\n",
        "                partidos.append((equipos[eq1], equipos[eq2], None))\n",
        "            else:\n",
        "                partidos.append((equipos[eq2], equipos[eq1], None))\n",
        "        calendario.append(partidos)\n",
        "        equipos_ids = [equipos_ids[0]] + [equipos_ids[-1]] + equipos_ids[1:-1]\n",
        "    return calendario\n",
        "\n",
        "def enfrentamientos_son_unicos(schedule):\n",
        "    enfrentamientos = set()\n",
        "    for jornada in schedule:\n",
        "        for partido in jornada:\n",
        "            local, visitante, _ = partido\n",
        "            enfrentamiento = frozenset({local[0], visitante[0]})\n",
        "            if enfrentamiento in enfrentamientos:\n",
        "                return False\n",
        "            enfrentamientos.add(enfrentamiento)\n",
        "    return True"
      ],
      "metadata": {
        "id": "h9rMWFLEYmom"
      },
      "execution_count": null,
      "outputs": []
    },
    {
      "cell_type": "markdown",
      "source": [
        "## 4. Optimización con Recocido Simulado\n",
        "1. calcular_costo(schedule)\n",
        "  *   **Propósito:** Calcular el fitness del calendario basado en:\n",
        "  **   Rivalidad (W1=30)\n",
        "  **   Capacidad del estadio (W2=15)\n",
        "  **   Valor de los equipos (W3=20)\n",
        "  **   Jornada temprana/tardía (W4=25)\n",
        "  **   Penalización por partidos consecutivos (W5=10)\n",
        "  *  **Retorna:** Valor fitness total.\n",
        "2. simulated_annealing(initial_schedule, iteraciones, temp_inicial, enfriamiento)\n",
        "*   **Propósito:** Optimiza el calendario intercambiando partidos entre jornadas tempranas y tardías.\n",
        "*   **Parámetros Clave:**\n",
        "**   iteraciones: Número de iteraciones\n",
        "**   temp_inicial:Temperatura inicial para el recocido\n",
        "**   enfriamiento: Tasa de enfriamiento por iteración\n",
        "*   **Proceso:**\n",
        "**  1. Intercambia partidos de jornadas tempranas/tardías\n",
        "**   2. Acepta cambios que mejoren el fitness o con probabilidad basada en temperatura.\n",
        "**   3. Registra el historial de temperatura y fitness\n",
        "*   **Retorna:** Calendario optimizado, historiales de fitness y temperatura.\n",
        "\n"
      ],
      "metadata": {
        "id": "QXrjDlUTEVQh"
      }
    },
    {
      "cell_type": "code",
      "source": [
        "def calcular_costo(schedule):\n",
        "    W1, W2, W3, W4, W5 = 30, 15, 20, 25, 10\n",
        "    fitness = 0\n",
        "\n",
        "    # Factores principales\n",
        "    for idx_jornada, jornada in enumerate(schedule):\n",
        "        jornada_num = idx_jornada + 1  # Jornadas 1-17\n",
        "        J_i = (jornada_num / 17) * 100\n",
        "        for partido in jornada:\n",
        "            local, visitante, _ = partido\n",
        "            # Rivalidad\n",
        "            R_i = obtener_rivalidad(local[0], visitante[0])\n",
        "            # Capacidad del estadio\n",
        "            S_i = (local[2] / 58445) * 100  # Máximo: Cruz Azul (58,445)\n",
        "            # Valor de los equipos\n",
        "            V_i = ((local[3] + visitante[3]) / 178700000) * 100  # Suma América + Cruz Azul\n",
        "            # Fitness acumulado\n",
        "            fitness += W1 * R_i + W2 * S_i + W3 * V_i + W4 * J_i\n",
        "\n",
        "    # Penalizaciones por partidos consecutivos\n",
        "    consecutivos = defaultdict(str)\n",
        "    penalizaciones = 0\n",
        "    for idx_jornada, jornada in enumerate(schedule):\n",
        "        for partido in jornada:\n",
        "            local, visitante, _ = partido\n",
        "            for equipo in [local[0], visitante[0]]:\n",
        "                estado = 'H' if equipo == local[0] else 'A'\n",
        "                if idx_jornada > 0:\n",
        "                    prev_estado = consecutivos.get((equipo, idx_jornada -1), None)\n",
        "                    if prev_estado == estado:\n",
        "                        penalizaciones += 1\n",
        "                consecutivos[(equipo, idx_jornada)] = estado\n",
        "    fitness -= W5 * penalizaciones\n",
        "\n",
        "    return fitness\n",
        "\n",
        "def simulated_annealing(initial_schedule, iteraciones=25000, temp_inicial=10000, enfriamiento=0.995):\n",
        "    current = copy.deepcopy(initial_schedule)\n",
        "    current_fitness = calcular_costo(current)\n",
        "    best = (copy.deepcopy(current), current_fitness)\n",
        "    temp = temp_inicial\n",
        "\n",
        "    # Historial para gráficas\n",
        "    fitness_history = [current_fitness]\n",
        "    temperature_history = [temp]\n",
        "\n",
        "    for _ in range(iteraciones):\n",
        "        nuevo = copy.deepcopy(current)\n",
        "\n",
        "        # Seleccionar dos partidos de jornadas tempranas/tardías\n",
        "        early_round = random.randint(0, EARLY_CUTOFF)\n",
        "        late_round = random.randint(EARLY_CUTOFF + 1, NUM_JORNADAS - 1)\n",
        "        idx1 = random.randint(0, len(nuevo[early_round]) - 1)\n",
        "        idx2 = random.randint(0, len(nuevo[late_round]) - 1)\n",
        "\n",
        "        partido1 = nuevo[early_round][idx1]\n",
        "        partido2 = nuevo[late_round][idx2]\n",
        "\n",
        "        # Verificar compatibilidad de equipos y enfrentamientos únicos\n",
        "        equipos_partido1 = {partido1[0][0], partido1[1][0]}\n",
        "        equipos_partido2 = {partido2[0][0], partido2[1][0]}\n",
        "        equipos_early = obtener_equipos_en_jornada(nuevo[early_round], partido1)\n",
        "        equipos_late = obtener_equipos_en_jornada(nuevo[late_round], partido2)\n",
        "\n",
        "        # Validar que no haya solapamiento de equipos y enfrentamientos sean únicos\n",
        "        if (\n",
        "            equipos_partido2.isdisjoint(equipos_early)\n",
        "            and equipos_partido1.isdisjoint(equipos_late)\n",
        "            and enfrentamientos_son_unicos(nuevo)\n",
        "        ):\n",
        "            # Intercambiar partidos\n",
        "            nuevo[early_round][idx1], nuevo[late_round][idx2] = partido2, partido1\n",
        "            nuevo_fitness = calcular_costo(nuevo)\n",
        "            delta = nuevo_fitness - current_fitness\n",
        "\n",
        "            # Criterio de aceptación (maximización)\n",
        "            if delta > 0 or random.random() < math.exp(delta / temp):\n",
        "                current = copy.deepcopy(nuevo)\n",
        "                current_fitness = nuevo_fitness\n",
        "                if current_fitness > best[1]:\n",
        "                    best = (copy.deepcopy(current), current_fitness)\n",
        "\n",
        "        # Enfriar temperatura\n",
        "        temp *= enfriamiento\n",
        "        fitness_history.append(current_fitness)\n",
        "        temperature_history.append(temp)\n",
        "\n",
        "    return best[0], fitness_history, temperature_history\n",
        "\n",
        "# Función auxiliar para obtener equipos en una jornada\n",
        "def obtener_equipos_en_jornada(jornada, excluir_partido=None):\n",
        "    equipos = set()\n",
        "    for partido in jornada:\n",
        "        if partido == excluir_partido:\n",
        "            continue\n",
        "        local_nombre = partido[0][0]\n",
        "        visitante_nombre = partido[1][0]\n",
        "        equipos.add(local_nombre)\n",
        "        equipos.add(visitante_nombre)\n",
        "    return equipos"
      ],
      "metadata": {
        "id": "PWYDGPCuHLXG"
      },
      "execution_count": null,
      "outputs": []
    },
    {
      "cell_type": "markdown",
      "source": [
        "## 5. Asignación de Horarios con Algoritmos Genéticos\n",
        "1. ordenamiento_genetico (partidos_jornada, población, generaciones)\n",
        "*  **Propósito:** Asigna horarios a partidos de una jornada maximizando el uso de horarios preferidos.\n",
        "*  **Funcionamiento:**\n",
        "** Población: Permutaciones de partidos.\n",
        "** Fitness: Número de horarios preferidos asignados.\n",
        "** Operadores: Cruce (crossover) y mutación para evolucionar soluciones.\n",
        "* **Retorna:** Lista ordenada de partidos con horarios óptimos.\n",
        "\n",
        "2. asignar_horarios_ga(calendario, fecha_inicial)\n",
        "* **Propósito:** Asigna fechas y horarios a todo el calendario.\n",
        "* **Proceso:**\n",
        "**  Ordena partidos por jornada usando ordenamiento_genetico.\n",
        "** Asigna slots disponibles priorizando horarios preferidos.\n",
        "** Genera fechas reales basadas en fecha_inicial.\n",
        "*  **Retorna:** Calendario completo con horarios y fechas."
      ],
      "metadata": {
        "id": "TdJfz4nNHzpH"
      }
    },
    {
      "cell_type": "code",
      "source": [
        "def ordenamiento_genetico(partidos_jornada, poblacion_size=100, generaciones=500):\n",
        "    def fitness(individuo):\n",
        "        slots_usados = set()\n",
        "        count = 0\n",
        "        for idx in individuo:\n",
        "            partido = partidos_jornada[idx]\n",
        "            local = partido[0]\n",
        "            preferido = HORARIO_LOCAL_EQUIPO.get(local[0], None)\n",
        "            if preferido and preferido not in slots_usados:\n",
        "                count +=1\n",
        "                slots_usados.add(preferido)\n",
        "        return count\n",
        "\n",
        "    def crossover(p1, p2):\n",
        "        size = len(p1)\n",
        "        a, b = sorted(random.sample(range(size), 2))\n",
        "        hijo = [-1]*size\n",
        "        hijo[a:b] = p1[a:b]\n",
        "        pos = set(hijo[a:b])\n",
        "        idx = 0\n",
        "        for i in range(size):\n",
        "            if hijo[i] == -1:\n",
        "                while p2[idx % size] in pos:\n",
        "                    idx +=1\n",
        "                hijo[i] = p2[idx % size]\n",
        "                idx +=1\n",
        "        return hijo\n",
        "\n",
        "    def mutate(individuo):\n",
        "        a, b = random.sample(range(len(individuo)), 2)\n",
        "        individuo[a], individuo[b] = individuo[b], individuo[a]\n",
        "        return individuo\n",
        "\n",
        "    poblacion = []\n",
        "    for _ in range(poblacion_size):\n",
        "        ind = list(range(len(partidos_jornada)))\n",
        "        random.shuffle(ind)\n",
        "        poblacion.append(ind)\n",
        "\n",
        "    for _ in range(generaciones):\n",
        "        poblacion.sort(key=lambda x: -fitness(x))\n",
        "        poblacion = poblacion[:poblacion_size//2]\n",
        "        while len(poblacion) < poblacion_size:\n",
        "            p1, p2 = random.sample(poblacion, 2)\n",
        "            hijo = crossover(p1, p2)\n",
        "            if random.random() < 0.1:\n",
        "                hijo = mutate(hijo)\n",
        "            poblacion.append(hijo)\n",
        "\n",
        "    mejor = max(poblacion, key=lambda x: fitness(x))\n",
        "    return [partidos_jornada[i] for i in mejor]\n",
        "\n",
        "def asignar_horarios_ga(calendario, fecha_inicial=datetime.date(2025, 1, 10)):\n",
        "    calendario_con_horarios = []\n",
        "    dia_offsets = {dia: idx for idx, dia in enumerate(DIAS_ORDEN)}\n",
        "    fecha_base = fecha_inicial\n",
        "\n",
        "    for jornada in calendario:\n",
        "        partidos = [p for p in jornada]\n",
        "        partidos_ordenados = ordenamiento_genetico(partidos)\n",
        "        slots_disponibles = sorted_slots.copy()\n",
        "        slots_asignados = {}\n",
        "        for partido in partidos_ordenados:\n",
        "            local = partido[0]\n",
        "            preferido = HORARIO_LOCAL_EQUIPO.get(local[0], None)\n",
        "            if preferido and preferido in slots_disponibles:\n",
        "                slot = preferido\n",
        "                slots_disponibles.remove(preferido)\n",
        "            else:\n",
        "                slot = slots_disponibles.pop(0)\n",
        "            slots_asignados[partido] = slot\n",
        "\n",
        "        nueva_jornada = []\n",
        "        for partido in jornada:\n",
        "            local, visitante, _ = partido\n",
        "            slot = slots_asignados[partido]\n",
        "            dia, hora = slot\n",
        "            fecha_partido = fecha_base + datetime.timedelta(days=dia_offsets[dia])\n",
        "            nuevo_partido = (local, visitante, None, (dia, hora, fecha_partido))\n",
        "            nueva_jornada.append(nuevo_partido)\n",
        "        calendario_con_horarios.append(nueva_jornada)\n",
        "        fecha_base += datetime.timedelta(weeks=1)\n",
        "    return calendario_con_horarios"
      ],
      "metadata": {
        "id": "iHWm4Z_iJQ9s"
      },
      "execution_count": null,
      "outputs": []
    },
    {
      "cell_type": "markdown",
      "source": [
        "## 6. Visualización y Guardado\n",
        "1. imprimir_y_guardar_calendario(calendario_con_horarios, archivo)\n",
        "*   **Propósito:** Generar un archivo de texto con el calendario optimizado.\n",
        "*   **Formato:**\n",
        "\n",
        "*JORNADA 6 (14/02/2025)\n",
        "14/02/2025 - Viernes 19:00: Querétaro vs Toluca | Estadio: La Corregidora\n",
        "16/02/2025 - Domingo 19:00: León vs Pachuca | Estadio: Nou Camp\n",
        "16/02/2025 - Domingo 12:00: Cruz Azul vs Atlético de San Luis | Estadio:    Olímpico Universitario (CU)\n",
        "15/02/2025 - Sábado 17:00: Santos Laguna vs Tijuana | Estadio: TSM Corona\n",
        "15/02/2025 - Sábado 19:00: Guadalajara vs Atlas | Estadio: AKRON\n",
        "16/02/2025 - Domingo 21:00: Mazatlán FC vs Puebla | Estadio: El Encanto\n",
        "15/02/2025 - Sábado 21:00: América vs Necaxa | Estadio: Ciudad de los Deportes\n",
        "16/02/2025 - Domingo 17:00: Monterrey vs Tigres | Estadio: BBVA\n",
        "14/02/2025 - Viernes 21:00: FC Juárez vs Pumas | Estadio: Olímpico Benito Juárez*\n",
        "\n",
        "\n",
        "2. graficar_convergencia(temperature_history)\n",
        "*   **Propósito:** Muestra una gráfica de la temperatura durante el recocido simulado.\n",
        "\n",
        "### Métricas clave\n",
        "*   Variación relativa: Diferencia entre ejecuciones (ideal <5%)"
      ],
      "metadata": {
        "id": "XTVCQ-fAjdPT"
      }
    },
    {
      "cell_type": "code",
      "source": [
        "def imprimir_y_guardar_calendario(calendario_con_horarios, archivo=\"calendario_optimizado.txt\"):\n",
        "    salida = f\"Calendario del Torneo\\n\\n\"\n",
        "    for jornada_num, jornada in enumerate(calendario_con_horarios, 1):\n",
        "        fecha_jornada = jornada[0][-1][2]\n",
        "        salida += f\"\\n JORNADA {jornada_num} ({fecha_jornada.strftime('%d/%m/%Y')})\\n\"\n",
        "        for partido in jornada:\n",
        "            local, visitante, _, (dia, hora, fecha) = partido\n",
        "            linea = f\"  {fecha.strftime('%d/%m/%Y')} - {dia} {hora}: {local[0]} vs {visitante[0]} | Estadio: {local[1]}\\n\"\n",
        "            salida += linea\n",
        "    with open(archivo, 'w', encoding='utf-8') as f:\n",
        "        f.write(salida)\n",
        "\n",
        "def graficar_convergencia(temperature_history):\n",
        "  plt.figure(figsize=(12,6))\n",
        "  plt.plot(temperature_history, 'b-', label='Temperatura')\n",
        "  plt.xlabel('Iteración')\n",
        "  plt.ylabel('Temperatura')\n",
        "  plt.title('Convergencia de la Temperatura')\n",
        "  plt.grid(True)\n",
        "\n",
        "  plt.tight_layout()\n",
        "  plt.show()\n",
        "\n",
        "fitness_finales = []\n",
        "for _ in range(10):\n",
        "    _, hist, _ = simulated_annealing(generar_calendario_round_robin())\n",
        "    fitness_finales.append(hist[-1])\n",
        "\n",
        "print(\"Fitness máximo:\", max(fitness_finales))\n",
        "print(\"Fitness mínimo:\", min(fitness_finales))\n",
        "print(\"Variación relativa:\", (max(fitness_finales) - min(fitness_finales)) / max(fitness_finales))\n"
      ],
      "metadata": {
        "id": "YPCEc8vgldFe",
        "colab": {
          "base_uri": "https://localhost:8080/"
        },
        "outputId": "55547e52-0b02-47d1-a1e4-c90c5fb392af"
      },
      "execution_count": null,
      "outputs": [
        {
          "output_type": "stream",
          "name": "stdout",
          "text": [
            "Fitness máximo: 626875.4195860324\n",
            "Fitness mínimo: 624246.3837403652\n",
            "Variación relativa: 0.004193872918806368\n"
          ]
        }
      ]
    },
    {
      "cell_type": "markdown",
      "source": [
        "## 7. Flujo de Ejecución\n",
        "1. **Generación inicial:** Crea un calendario round-robin\n",
        "2. **Optimización:** Mejora el calendario con recocido simulado\n",
        "3. **Asignación de Horarios:** Usa algoritmos genéticos por jornada\n",
        "4. **Resultados:** Guarda el calendario y muestra gráficos de convergencia."
      ],
      "metadata": {
        "id": "GGKBiACcoBaj"
      }
    },
    {
      "cell_type": "markdown",
      "source": [],
      "metadata": {
        "id": "NFi5ECMUsKgy"
      }
    },
    {
      "cell_type": "code",
      "source": [
        "if __name__ == \"__main__\":\n",
        "    random.seed(time.time() + os.getpid())  # Semilla única por ejecución\n",
        "    calendario_inicial = generar_calendario_round_robin()\n",
        "    calendario_opt, fitness_hist, temp_hist = simulated_annealing(calendario_inicial)\n",
        "    calendario_con_horarios = asignar_horarios_ga(calendario_opt)\n",
        "    graficar_convergencia(temp_hist)\n",
        "    imprimir_y_guardar_calendario(calendario_con_horarios)"
      ],
      "metadata": {
        "id": "CZka4VQRoB28",
        "colab": {
          "base_uri": "https://localhost:8080/",
          "height": 329
        },
        "outputId": "ea6a8c88-d537-483e-da2e-a198f3aa57e5"
      },
      "execution_count": null,
      "outputs": [
        {
          "output_type": "display_data",
          "data": {
            "text/plain": [
              "<Figure size 1200x600 with 1 Axes>"
            ],
            "image/png": "[encoded data removed]"
          },
          "metadata": {}
        }
      ]
    }
  ]
}
